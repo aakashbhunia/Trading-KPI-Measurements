{
 "cells": [
  {
   "cell_type": "code",
   "execution_count": 1,
   "metadata": {},
   "outputs": [],
   "source": [
    "import yfinance as yf\n",
    "import numpy as np \n",
    "import pandas as pd"
   ]
  },
  {
   "cell_type": "code",
   "execution_count": 2,
   "metadata": {},
   "outputs": [],
   "source": [
    "tickers=[\"AMZN\",\"GOOG\",\"MSFT\"]\n",
    "ohclv_data={}"
   ]
  },
  {
   "cell_type": "code",
   "execution_count": 3,
   "metadata": {},
   "outputs": [
    {
     "name": "stdout",
     "output_type": "stream",
     "text": [
      "[*********************100%***********************]  1 of 1 completed\n",
      "[*********************100%***********************]  1 of 1 completed\n",
      "[*********************100%***********************]  1 of 1 completed\n"
     ]
    }
   ],
   "source": [
    "for ticker in tickers:\n",
    "    temp=yf.download(ticker,period='7mo',interval='1d')\n",
    "    temp.dropna(how=\"any\",inplace=True)\n",
    "    ohclv_data[ticker]=temp"
   ]
  },
  {
   "cell_type": "code",
   "execution_count": 15,
   "metadata": {},
   "outputs": [],
   "source": [
    "#Drawdown function\n",
    "def max_dd(DF):\n",
    "    df=DF.copy()\n",
    "    df[\"return\"]=df[\"Adj Close\"].pct_change()\n",
    "    df[\"cum_return\"]=(1+df[\"return\"]).cumprod()\n",
    "    df[\"cum_roll_max\"]=df[\"cum_return\"].cummax()\n",
    "    df[\"drawdown\"]=df[\"cum_roll_max\"]-df[\"cum_return\"]\n",
    "    return(df[\"drawdown\"]/df[\"cum_roll_max\"]).max()"
   ]
  },
  {
   "cell_type": "code",
   "execution_count": 18,
   "metadata": {},
   "outputs": [],
   "source": [
    "def CAGR(DF):\n",
    "    \"function to calculate the Cumulative Annual Growth Rate of a trading strategy\"\n",
    "    df=DF.copy()\n",
    "    df[\"return\"]=DF[\"Adj Close\"].pct_change()\n",
    "    df[\"cum_return\"]=(1+df[\"return\"]).cumprod()\n",
    "    n=len(df)/252\n",
    "    CAGR=(df[\"cum_return\"][-1])**(1/n)-1\n",
    "    return CAGR"
   ]
  },
  {
   "cell_type": "code",
   "execution_count": 19,
   "metadata": {},
   "outputs": [
    {
     "data": {
      "text/plain": [
       "<AxesSubplot:xlabel='Date'>"
      ]
     },
     "execution_count": 19,
     "metadata": {},
     "output_type": "execute_result"
    },
    {
     "data": {
      "image/png": "[encoded data removed]",
      "text/plain": [
       "<Figure size 432x288 with 1 Axes>"
      ]
     },
     "metadata": {
      "needs_background": "light"
     },
     "output_type": "display_data"
    }
   ],
   "source": [
    "df[\"cum_return\"].plot()"
   ]
  },
  {
   "cell_type": "code",
   "execution_count": 20,
   "metadata": {},
   "outputs": [
    {
     "name": "stdout",
     "output_type": "stream",
     "text": [
      "max drawdown of AMZN = 0.26400274997222456\n",
      "max drawdown of GOOG = 0.1608695909252501\n",
      "max drawdown of MSFT = 0.19436802468201614\n"
     ]
    }
   ],
   "source": [
    "for ticker in ohclv_data:\n",
    "    print(\"max drawdown of {} = {}\".format(ticker,max_dd(ohclv_data[ticker])))"
   ]
  },
  {
   "cell_type": "code",
   "execution_count": 21,
   "metadata": {},
   "outputs": [],
   "source": [
    "#calamar ratio computation\n",
    "def calamar(DF):\n",
    "    df=DF.copy()\n",
    "    return CAGR(df)/max_dd(DF)"
   ]
  },
  {
   "cell_type": "code",
   "execution_count": 25,
   "metadata": {},
   "outputs": [
    {
     "name": "stdout",
     "output_type": "stream",
     "text": [
      "Max Drawdown of AMZN=0.26400274997222456\n",
      "Calamar ratio of AMZN=-0.739300187198504\n",
      "Max Drawdown of GOOG=0.1608695909252501\n",
      "Calamar ratio of GOOG=-0.5968844121298064\n",
      "Max Drawdown of MSFT=0.19436802468201614\n",
      "Calamar ratio of MSFT=-0.24431372038487306\n"
     ]
    }
   ],
   "source": [
    "for ticker in ohclv_data:\n",
    "    print('Max Drawdown of {}={}'.format(ticker,max_dd(ohclv_data[ticker])))\n",
    "    print('Calamar ratio of {}={}'.format(ticker,calamar(ohclv_data[ticker])))"
   ]
  },
  {
   "cell_type": "code",
   "execution_count": null,
   "metadata": {},
   "outputs": [],
   "source": []
  }
 ],
 "metadata": {
  "kernelspec": {
   "display_name": "Python 3",
   "language": "python",
   "name": "python3"
  },
  "language_info": {
   "codemirror_mode": {
    "name": "ipython",
    "version": 3
   },
   "file_extension": ".py",
   "mimetype": "text/x-python",
   "name": "python",
   "nbconvert_exporter": "python",
   "pygments_lexer": "ipython3",
   "version": "3.8.8"
  }
 },
 "nbformat": 4,
 "nbformat_minor": 4
}
