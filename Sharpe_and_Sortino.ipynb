{
 "cells": [
  {
   "cell_type": "code",
   "execution_count": 1,
   "metadata": {},
   "outputs": [],
   "source": [
    "import yfinance as yf\n",
    "import pandas as pd\n",
    "import numpy as np"
   ]
  },
  {
   "cell_type": "code",
   "execution_count": 5,
   "metadata": {},
   "outputs": [],
   "source": [
    "tickers=[\"AMZN\",\"GOOG\",\"MSFT\"]\n",
    "ohclv_data={}"
   ]
  },
  {
   "cell_type": "code",
   "execution_count": 6,
   "metadata": {},
   "outputs": [
    {
     "name": "stdout",
     "output_type": "stream",
     "text": [
      "[*********************100%***********************]  1 of 1 completed\n",
      "[*********************100%***********************]  1 of 1 completed\n",
      "[*********************100%***********************]  1 of 1 completed\n"
     ]
    }
   ],
   "source": [
    "for ticker in tickers:\n",
    "    temp=yf.download(ticker,period='7mo',interval='1d')\n",
    "    temp.dropna(how='any',inplace=True)\n",
    "    ohclv_data[ticker]=temp"
   ]
  },
  {
   "cell_type": "code",
   "execution_count": 45,
   "metadata": {},
   "outputs": [],
   "source": [
    "def CAGR(DF):\n",
    "    \"function to calculate the Cumulative Annual Growth Rate of a trading strategy\"\n",
    "    df=DF.copy()\n",
    "    df[\"return\"]=DF[\"Adj Close\"].pct_change()\n",
    "    df[\"cum_return\"]=(1+df[\"return\"]).cumprod()\n",
    "    n=len(df)/252\n",
    "    CAGR=(df[\"cum_return\"][-1])**(1/n)-1\n",
    "    return CAGR"
   ]
  },
  {
   "cell_type": "code",
   "execution_count": 46,
   "metadata": {},
   "outputs": [],
   "source": [
    "def volatility(DF):\n",
    "    \"function to calculate annualized volatility of a trading strategy\"\n",
    "    df=DF.copy()\n",
    "    df[\"daily_ret\"]=DF[\"Adj Close\"].pct_change()\n",
    "    vol=df[\"daily_ret\"].std()*np.sqrt(252)\n",
    "    return vol"
   ]
  },
  {
   "cell_type": "code",
   "execution_count": 50,
   "metadata": {},
   "outputs": [],
   "source": [
    "#Sharpe Ratio\n",
    "def sharpe(DF,Risk_free_rate):\n",
    "    df=DF.copy()\n",
    "    return(CAGR(df)-Risk_free_rate)/volatility(df)"
   ]
  },
  {
   "cell_type": "code",
   "execution_count": 51,
   "metadata": {},
   "outputs": [],
   "source": [
    "#Sortino Ratio\n",
    "def sortino(DF,Risk_free_rate):\n",
    "    df=DF.copy()\n",
    "    df[\"return\"]=df[\"Adj Close\"].pct_change()\n",
    "    negative_return=np.where(df[\"return\"]>0,0,df[\"return\"])\n",
    "    neg_vol=pd.Series(negative_return[negative_return!=0]).std()*np.sqrt(252)\n",
    "    return(CAGR(df)-Risk_free_rate)/neg_vol"
   ]
  },
  {
   "cell_type": "code",
   "execution_count": 52,
   "metadata": {},
   "outputs": [
    {
     "name": "stdout",
     "output_type": "stream",
     "text": [
      "Sharpe for AMZN=-0.6420821176967572\n",
      "Sortino for AMZN=-1.014206274396385\n",
      "Sharpe for GOOG=-0.454175228146028\n",
      "Sortino for GOOG=-0.6940832856815521\n",
      "Sharpe for MSFT=-0.29414496749677266\n",
      "Sortino for MSFT=-0.4379524804873014\n"
     ]
    }
   ],
   "source": [
    "for ticker in ohclv_data:\n",
    "    print(\"Sharpe for {}={}\".format(ticker,sharpe(ohclv_data[ticker],0.03)))\n",
    "    print(\"Sortino for {}={}\".format(ticker,sortino(ohclv_data[ticker],0.03)))"
   ]
  }
 ],
 "metadata": {
  "kernelspec": {
   "display_name": "Python 3",
   "language": "python",
   "name": "python3"
  },
  "language_info": {
   "codemirror_mode": {
    "name": "ipython",
    "version": 3
   },
   "file_extension": ".py",
   "mimetype": "text/x-python",
   "name": "python",
   "nbconvert_exporter": "python",
   "pygments_lexer": "ipython3",
   "version": "3.8.8"
  }
 },
 "nbformat": 4,
 "nbformat_minor": 4
}
